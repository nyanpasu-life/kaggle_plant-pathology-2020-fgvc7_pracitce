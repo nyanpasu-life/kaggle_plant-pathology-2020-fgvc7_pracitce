{
 "cells": [
  {
   "attachments": {
    "image.png": {
     "image/png": "[encoded data removed]"
    }
   },
   "cell_type": "markdown",
   "metadata": {},
   "source": [
    "![image.png](attachment:image.png)"
   ]
  },
  {
   "cell_type": "code",
   "execution_count": 2,
   "metadata": {},
   "outputs": [],
   "source": [
    "from tensorflow.keras.layers import Dense, Conv2D, MaxPooling2D, Dropout, Flatten, LeakyReLU\n",
    "from tensorflow.keras.models import Sequential\n",
    "from tensorflow.keras.utils import to_categorical\n",
    "from tensorflow.keras.callbacks import EarlyStopping, ModelCheckpoint\n",
    "from tensorflow.keras.models import load_model\n",
    "from tensorflow.keras.preprocessing.image import ImageDataGenerator\n",
    "from sklearn.model_selection import train_test_split\n",
    "from sklearn.model_selection import StratifiedKFold\n",
    "from tensorflow.keras.applications import EfficientNetB0\n",
    "\n",
    "import numpy as np\n",
    "import pandas as pd\n",
    "import cv2\n",
    "import matplotlib.pyplot as plt\n",
    "import tensorflow as tf"
   ]
  },
  {
   "attachments": {},
   "cell_type": "markdown",
   "metadata": {},
   "source": [
    "### 이미지 전처리"
   ]
  },
  {
   "cell_type": "code",
   "execution_count": 10,
   "metadata": {},
   "outputs": [],
   "source": [
    "IMAGE_SIZE = (224, 224)\n",
    "IMAGE_PATH = \"./plant-pathology-2020-fgvc7/images/\"\n",
    "TEST_PATH = \"./plant-pathology-2020-fgvc7/test.csv\"\n",
    "TRAIN_PATH = \"./plant-pathology-2020-fgvc7/train.csv\"\n",
    "SUB_PATH = \"./plant-pathology-2020-fgvc7/sample_submission.csv\"\n",
    "\n",
    "test_data = pd.read_csv(TEST_PATH)\n",
    "train_data = pd.read_csv(TRAIN_PATH)\n",
    "\n",
    "def load_image(image_id):\n",
    "    file_path = image_id + \".jpg\"\n",
    "    image = cv2.imread(IMAGE_PATH + file_path)\n",
    "    \n",
    "    # 이미지 크기 확인\n",
    "    height, width, _ = image.shape\n",
    "    \n",
    "    # 이미지 크기가 (2048, 1365)일 경우 회전하여 크기 변경\n",
    "    if height == 2048 and width == 1365:\n",
    "        image = np.rot90(image)\n",
    "\n",
    "    # 이미지를 224, 224로 줄이기\n",
    "    image = cv2.resize(image, IMAGE_SIZE)\n",
    "\n",
    "    return cv2.cvtColor(image, cv2.COLOR_BGR2RGB)\n",
    "\n",
    "images = train_data[\"image_id\"].apply(load_image)\n",
    "\n"
   ]
  },
  {
   "cell_type": "code",
   "execution_count": 4,
   "metadata": {},
   "outputs": [],
   "source": [
    "images = np.stack(images)\n",
    "labels = train_data[[\"healthy\", \"multiple_diseases\", \"rust\", \"scab\"]].values"
   ]
  },
  {
   "cell_type": "code",
   "execution_count": 5,
   "metadata": {},
   "outputs": [
    {
     "data": {
      "text/plain": [
       "array([   1,    6,   25,   36,   62,   74,   95,  104,  113,  122,  128,\n",
       "        170,  180,  231,  237,  245,  306,  336,  338,  363,  391,  395,\n",
       "        399,  418,  428,  436,  480,  484,  493,  517,  535,  543,  563,\n",
       "        602,  629,  645,  682,  702,  732,  754,  762,  857,  886,  905,\n",
       "        936,  949, 1013, 1018, 1028, 1035, 1046, 1050, 1119, 1129, 1134,\n",
       "       1161, 1173, 1197, 1216, 1234, 1236, 1264, 1270, 1280, 1310, 1358,\n",
       "       1369, 1390, 1433, 1454, 1468, 1494, 1514, 1526, 1531, 1536, 1554,\n",
       "       1558, 1573, 1577, 1609, 1618, 1641, 1648, 1662, 1664, 1708, 1779,\n",
       "       1780, 1784, 1815], dtype=int64)"
      ]
     },
     "execution_count": 5,
     "metadata": {},
     "output_type": "execute_result"
    }
   ],
   "source": [
    "np.where(labels[:, 1] == 1)[0]"
   ]
  },
  {
   "cell_type": "code",
   "execution_count": 77,
   "metadata": {},
   "outputs": [
    {
     "ename": "TypeError",
     "evalue": "__init__() got an unexpected keyword argument 'resize'",
     "output_type": "error",
     "traceback": [
      "\u001b[1;31m---------------------------------------------------------------------------\u001b[0m",
      "\u001b[1;31mTypeError\u001b[0m                                 Traceback (most recent call last)",
      "\u001b[1;32m~\\AppData\\Local\\Temp\\ipykernel_15148\\3370884337.py\u001b[0m in \u001b[0;36m<module>\u001b[1;34m\u001b[0m\n\u001b[0;32m     17\u001b[0m                                    \u001b[0mzoom_range\u001b[0m\u001b[1;33m=\u001b[0m\u001b[1;33m[\u001b[0m\u001b[1;36m0.9\u001b[0m\u001b[1;33m,\u001b[0m \u001b[1;36m2.2\u001b[0m\u001b[1;33m]\u001b[0m\u001b[1;33m,\u001b[0m\u001b[1;33m\u001b[0m\u001b[1;33m\u001b[0m\u001b[0m\n\u001b[0;32m     18\u001b[0m                                    \u001b[0mfill_mode\u001b[0m\u001b[1;33m=\u001b[0m\u001b[1;34m'nearest'\u001b[0m\u001b[1;33m,\u001b[0m\u001b[1;33m\u001b[0m\u001b[1;33m\u001b[0m\u001b[0m\n\u001b[1;32m---> 19\u001b[1;33m                                    \u001b[0mresize\u001b[0m \u001b[1;33m=\u001b[0m \u001b[1;33m(\u001b[0m\u001b[1;36m224\u001b[0m\u001b[1;33m,\u001b[0m\u001b[1;36m224\u001b[0m\u001b[1;33m)\u001b[0m\u001b[1;33m\u001b[0m\u001b[1;33m\u001b[0m\u001b[0m\n\u001b[0m\u001b[0;32m     20\u001b[0m                                    )\n\u001b[0;32m     21\u001b[0m \u001b[1;33m\u001b[0m\u001b[0m\n",
      "\u001b[1;31mTypeError\u001b[0m: __init__() got an unexpected keyword argument 'resize'"
     ]
    }
   ],
   "source": [
    "y_categorical = np.argmax(labels, axis=1)\n",
    "k = 5  # Number of folds\n",
    "stratified_kfold = StratifiedKFold(n_splits=k, shuffle=True)\n",
    "\n",
    "for i, (train_indices, test_indices) in enumerate(stratified_kfold.split(images, y_categorical)):\n",
    "    \n",
    "    train_images, val_images = images[train_indices], images[test_indices]\n",
    "    train_labels, val_labels = labels[train_indices], labels[test_indices]\n",
    "\n",
    "    train_datagen = ImageDataGenerator(rescale=1./255,\n",
    "                                   horizontal_flip=True,\n",
    "                                   vertical_flip=True,\n",
    "                                   width_shift_range=0.1,\n",
    "                                   height_shift_range=0.1,\n",
    "                                   rotation_range=5,\n",
    "                                   shear_range=0.7,\n",
    "                                   zoom_range=[0.9, 2.2],\n",
    "                                   fill_mode='nearest',\n",
    "                                   )\n",
    "\n",
    "    val_datagen = ImageDataGenerator(rescale=1./255)\n",
    "\n",
    "    BATCH_SIZE = 5\n",
    "    train_generator = train_datagen.flow(x=train_images, y=train_labels, batch_size=BATCH_SIZE)\n",
    "    val_generator = train_datagen.flow(x=val_images, y=val_labels, batch_size=BATCH_SIZE)\n",
    "\n",
    "    efmodel = EfficientNetB0(include_top=False, weights='imagenet', input_shape= (IMAGE_SIZE[1], IMAGE_SIZE[0], 3))\n",
    "    efmodel.trainable = False\n",
    "\n",
    "    model = Sequential()\n",
    "    model.add(efmodel)\n",
    "    model.add(Flatten())\n",
    "    model.add(Dropout(0.5))\n",
    "    model.add(Dense(4, activation='softmax'))\n",
    "\n",
    "    model.compile(loss='categorical_crossentropy', optimizer=tf.keras.optimizers.Adam(learning_rate=0.000005), metrics=['accuracy'])\n",
    "\n",
    "    modelpath = f'./train{i}.hdf5'\n",
    "    checkpointer = ModelCheckpoint(filepath=modelpath, monitor='val_loss', verbose=1, save_best_only=True)\n",
    "    early_stopping_callback = EarlyStopping(monitor='val_loss', patience=30)\n",
    "    history = model.fit(train_generator, epochs=10000, verbose=1, callbacks=[early_stopping_callback, checkpointer], validation_data=val_generator)\n",
    "\n"
   ]
  }
 ],
 "metadata": {
  "kernelspec": {
   "display_name": "venv",
   "language": "python",
   "name": "python3"
  },
  "language_info": {
   "codemirror_mode": {
    "name": "ipython",
    "version": 3
   },
   "file_extension": ".py",
   "mimetype": "text/x-python",
   "name": "python",
   "nbconvert_exporter": "python",
   "pygments_lexer": "ipython3",
   "version": "3.7.16"
  },
  "orig_nbformat": 4
 },
 "nbformat": 4,
 "nbformat_minor": 2
}
