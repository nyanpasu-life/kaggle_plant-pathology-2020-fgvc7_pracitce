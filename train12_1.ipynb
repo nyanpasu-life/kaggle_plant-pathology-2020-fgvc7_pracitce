{
 "cells": [
  {
   "cell_type": "code",
   "execution_count": 1,
   "metadata": {},
   "outputs": [],
   "source": [
    "from tensorflow.keras.layers import Dense, Conv2D, MaxPooling2D, Dropout, Flatten, LeakyReLU\n",
    "from tensorflow.keras.models import Sequential\n",
    "from tensorflow.keras.utils import to_categorical\n",
    "from tensorflow.keras.callbacks import EarlyStopping, ModelCheckpoint, ReduceLROnPlateau\n",
    "from tensorflow.keras.preprocessing.image import ImageDataGenerator\n",
    "from sklearn.model_selection import StratifiedKFold\n",
    "from tensorflow.keras.models import load_model\n",
    "\n",
    "import tensorflow as tf\n",
    "import numpy as np\n",
    "import pandas as pd\n",
    "import cv2\n",
    "import matplotlib.pyplot as plt\n",
    "import tensorflow as tf\n"
   ]
  },
  {
   "attachments": {},
   "cell_type": "markdown",
   "metadata": {},
   "source": [
    "### 이미지 전처리"
   ]
  },
  {
   "cell_type": "code",
   "execution_count": 2,
   "metadata": {},
   "outputs": [],
   "source": [
    "IMAGE_SIZE = (300, 300)\n",
    "\n",
    "IMAGE_PATH = \"./plant-pathology-2020-fgvc7/images/\"\n",
    "TEST_PATH = \"./plant-pathology-2020-fgvc7/test.csv\"\n",
    "TRAIN_PATH = \"./plant-pathology-2020-fgvc7/train.csv\"\n",
    "#SUB_PATH = \"./plant-pathology-2020-fgvc7/sample_submission.csv\"\n",
    "\n",
    "test_data = pd.read_csv(TEST_PATH)\n",
    "train_data = pd.read_csv(TRAIN_PATH)\n"
   ]
  },
  {
   "cell_type": "code",
   "execution_count": 3,
   "metadata": {},
   "outputs": [],
   "source": [
    "def load_image(image_id):\n",
    "    file_path = image_id + \".jpg\"\n",
    "    image = cv2.imread(IMAGE_PATH + file_path)\n",
    "\n",
    "    # 이미지를 224, 224로 줄이기\n",
    "    image = cv2.resize(image, IMAGE_SIZE)\n",
    "\n",
    "    return cv2.cvtColor(image, cv2.COLOR_BGR2RGB)\n",
    "\n",
    "images = train_data[\"image_id\"].apply(load_image)"
   ]
  },
  {
   "cell_type": "code",
   "execution_count": 4,
   "metadata": {},
   "outputs": [],
   "source": [
    "images = np.stack(images)\n",
    "labels = train_data[[\"healthy\", \"multiple_diseases\", \"rust\", \"scab\"]].values"
   ]
  },
  {
   "cell_type": "code",
   "execution_count": 5,
   "metadata": {},
   "outputs": [],
   "source": [
    "numeric_cols = train_data.select_dtypes(include='number').columns\n",
    "train_data[numeric_cols] *= 0.7"
   ]
  },
  {
   "cell_type": "code",
   "execution_count": 6,
   "metadata": {},
   "outputs": [
    {
     "name": "stdout",
     "output_type": "stream",
     "text": [
      "12/12 [==============================] - 10s 111ms/step\n",
      "12/12 [==============================] - 3s 131ms/step\n",
      "12/12 [==============================] - 2s 100ms/step\n",
      "12/12 [==============================] - 2s 90ms/step\n",
      "12/12 [==============================] - 2s 90ms/step\n"
     ]
    }
   ],
   "source": [
    "y_categorical = np.argmax(labels, axis=1)\n",
    "k = 5  # Number of folds\n",
    "stratified_kfold = StratifiedKFold(n_splits=k)\n",
    "\n",
    "history = None\n",
    "for i, (train_indices, test_indices) in enumerate(stratified_kfold.split(images, y_categorical)):\n",
    "        \n",
    "    val_images = images[test_indices]\n",
    "\n",
    "    model = load_model(f\"./model/train11/kfold{i}/epoch100.hdf5\")\n",
    "    result = model.predict(val_images)\n",
    "\n",
    "    train_data.loc[test_indices, [\"healthy\", \"multiple_diseases\", \"rust\", \"scab\"]] += (result*0.3)\n",
    "    \n",
    "    "
   ]
  },
  {
   "cell_type": "code",
   "execution_count": 11,
   "metadata": {},
   "outputs": [],
   "source": [
    "train_data.to_csv(\"./plant-pathology-2020-fgvc7/aug_train.csv\", sep=',', index=False)"
   ]
  }
 ],
 "metadata": {
  "kernelspec": {
   "display_name": "venv",
   "language": "python",
   "name": "python3"
  },
  "language_info": {
   "codemirror_mode": {
    "name": "ipython",
    "version": 3
   },
   "file_extension": ".py",
   "mimetype": "text/x-python",
   "name": "python",
   "nbconvert_exporter": "python",
   "pygments_lexer": "ipython3",
   "version": "3.7.16"
  },
  "orig_nbformat": 4
 },
 "nbformat": 4,
 "nbformat_minor": 2
}
