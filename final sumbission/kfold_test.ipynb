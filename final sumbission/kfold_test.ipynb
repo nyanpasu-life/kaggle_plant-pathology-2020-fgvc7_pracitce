{
 "cells": [
  {
   "cell_type": "code",
   "execution_count": 1,
   "metadata": {},
   "outputs": [],
   "source": [
    "from tensorflow.keras.layers import Dense, Conv2D, MaxPooling2D, Dropout, Flatten, LeakyReLU\n",
    "from tensorflow.keras.models import Sequential\n",
    "from tensorflow.keras.utils import to_categorical\n",
    "from tensorflow.keras.callbacks import EarlyStopping, ModelCheckpoint\n",
    "from tensorflow.keras.models import load_model\n",
    "from tensorflow.keras.preprocessing.image import ImageDataGenerator\n",
    "\n",
    "import numpy as np\n",
    "import pandas as pd\n",
    "import cv2\n",
    "import matplotlib.pyplot as plt"
   ]
  },
  {
   "attachments": {},
   "cell_type": "markdown",
   "metadata": {},
   "source": [
    "### 이미지 로딩"
   ]
  },
  {
   "cell_type": "code",
   "execution_count": 2,
   "metadata": {},
   "outputs": [],
   "source": [
    "IMAGE_SIZE = (300, 300)\n",
    "\n",
    "IMAGE_PATH = \"./plant-pathology-2020-fgvc7/images/\"\n",
    "TEST_PATH = \"./plant-pathology-2020-fgvc7/test.csv\"\n",
    "TRAIN_PATH = \"./plant-pathology-2020-fgvc7/train.csv\"\n",
    "#SUB_PATH = \"./plant-pathology-2020-fgvc7/sample_submission.csv\"\n",
    "\n",
    "test_data = pd.read_csv(TEST_PATH)\n",
    "train_data = pd.read_csv(TRAIN_PATH)\n",
    "\n",
    "def load_image(image_id):\n",
    "    file_path = image_id + \".jpg\"\n",
    "    image = cv2.imread(IMAGE_PATH + file_path)\n",
    "\n",
    "    image = cv2.resize(image, IMAGE_SIZE)\n",
    "\n",
    "    return cv2.cvtColor(image, cv2.COLOR_BGR2RGB)\n",
    "\n",
    "images = test_data[\"image_id\"].apply(load_image)\n",
    "\n"
   ]
  },
  {
   "cell_type": "code",
   "execution_count": 3,
   "metadata": {},
   "outputs": [],
   "source": [
    "test_images = np.stack(images)"
   ]
  },
  {
   "cell_type": "code",
   "execution_count": 35,
   "metadata": {},
   "outputs": [
    {
     "name": "stdout",
     "output_type": "stream",
     "text": [
      "57/57 [==============================] - 6s 80ms/step\n",
      "57/57 [==============================] - 6s 76ms/step\n",
      "57/57 [==============================] - 6s 78ms/step\n",
      "57/57 [==============================] - 12s 85ms/step\n",
      "57/57 [==============================] - 5s 75ms/step\n"
     ]
    }
   ],
   "source": [
    "kfold = 5\n",
    "df_list = []\n",
    "for i in range(kfold):\n",
    "    model = load_model(f\"./model/train13/kfold{i}/best.hdf5\")\n",
    "    result = model.predict(test_images)\n",
    "    result_df = pd.DataFrame(result, columns=[\"healthy\", \"multiple_diseases\", \"rust\", \"scab\"])\n",
    "    df_list.append(result_df)"
   ]
  },
  {
   "cell_type": "code",
   "execution_count": 5,
   "metadata": {},
   "outputs": [],
   "source": [
    "# 첫 번째 DataFrame을 복사하여 평균을 저장할 DataFrame 생성\n",
    "result_df = df_list[0].copy()\n",
    "\n",
    "# 나머지 DataFrame의 셀 값을 더하고 개수를 세어 평균 계산\n",
    "for df in df_list[1:]:\n",
    "    result_df += df\n",
    "\n",
    "result_df /= len(df_list)\n",
    "\n",
    "# 결과 출력\n",
    "result_df = pd.concat([test_data, result_df], axis=1)\n"
   ]
  },
  {
   "cell_type": "code",
   "execution_count": 6,
   "metadata": {},
   "outputs": [],
   "source": [
    "result_df.to_csv(\"./result.csv\", sep=',', index=False)"
   ]
  }
 ],
 "metadata": {
  "kernelspec": {
   "display_name": "venv",
   "language": "python",
   "name": "python3"
  },
  "language_info": {
   "codemirror_mode": {
    "name": "ipython",
    "version": 3
   },
   "file_extension": ".py",
   "mimetype": "text/x-python",
   "name": "python",
   "nbconvert_exporter": "python",
   "pygments_lexer": "ipython3",
   "version": "3.7.16"
  },
  "orig_nbformat": 4
 },
 "nbformat": 4,
 "nbformat_minor": 2
}
